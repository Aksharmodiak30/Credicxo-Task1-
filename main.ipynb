{
 "cells": [
  {
   "cell_type": "markdown",
   "metadata": {},
   "source": [
    "##TASK-1 by (Akshar Modi)"
   ]
  },
  {
   "cell_type": "markdown",
   "metadata": {},
   "source": [
    "Importing necessary Libraries"
   ]
  },
  {
   "cell_type": "code",
   "execution_count": 1,
   "metadata": {},
   "outputs": [],
   "source": [
    "import requests\n",
    "from bs4 import BeautifulSoup as bs\n",
    "import re"
   ]
  },
  {
   "cell_type": "markdown",
   "metadata": {},
   "source": [
    "Code to fetch a list of proxies "
   ]
  },
  {
   "cell_type": "code",
   "execution_count": 2,
   "metadata": {},
   "outputs": [],
   "source": [
    "# from bs4 import BeautifulSoup as bs\n",
    "# import requests\n",
    "\n",
    "# def get_proxies(): \n",
    "#     proxy='64.124.38.140:8080'\n",
    "#     r = requests.get('https://free-proxy-list.net/', proxies = {\"http\": proxy, \"https\": proxy})\n",
    "#     soup = bs(r.content, 'lxml')\n",
    "#     proxies = {tr.td.text + ':' + tr.td.next_sibling.text for tr in soup.select('tr:has(.hx:contains(yes))')} \n",
    "#     return proxies \n",
    "\n",
    "# proxies=get_proxies()"
   ]
  },
  {
   "cell_type": "markdown",
   "metadata": {},
   "source": [
    "List of Proxies obtained from https://www.freeproxylists.net/ (Only US)"
   ]
  },
  {
   "cell_type": "code",
   "execution_count": 3,
   "metadata": {},
   "outputs": [],
   "source": [
    "proxies=['64.124.38.141:8080', '50.229.122.130:8080', '54.93.108.168:9300', '161.35.159.28:3128', '138.197.148.215:80', '140.227.25.56:5678', '139.99.99.165:3128', '141.125.105.140:3128', '64.124.38.138:8080', '8.210.53.158:3128', '140.227.69.170:6000', '4.138.225.120:8888', '134.122.93.93:8080', '161.35.159.28:3128', '140.227.211.47:8080']"
   ]
  },
  {
   "cell_type": "markdown",
   "metadata": {},
   "source": [
    "Fetch product details for each proxy from https://www.midsouthshooterssupply.com/dept/reloading/primers?currentpage=1 in proxy list."
   ]
  },
  {
   "cell_type": "markdown",
   "metadata": {},
   "source": [
    "Print product details as a list comprised of dictionary stored data of different products else print \"failed\" if its not working for that proxy"
   ]
  },
  {
   "cell_type": "code",
   "execution_count": 4,
   "metadata": {
    "scrolled": true
   },
   "outputs": [
    {
     "name": "stdout",
     "output_type": "stream",
     "text": [
      "Proxy:  64.124.38.141:8080 :  [{'price in $': 70.04, 'title': 'Winchester USA Ready Match Large Pistol Primers 1000 Count', 'stock': False, 'maftr': 'Winchester'}, {'price in $': 70.04, 'title': 'Winchester USA Ready Match Large Rifle Primers 1000 Count', 'stock': False, 'maftr': 'Winchester'}, {'price in $': 70.04, 'title': 'Winchester USA Ready Match Small Pistol Primers 1000 Count', 'stock': False, 'maftr': 'Winchester'}, {'price in $': 70.04, 'title': 'Winchester USA Ready Match Small Rifle Primers 1000 Count', 'stock': False, 'maftr': 'Winchester'}, {'price in $': 60.9, 'title': 'Winchester Small Pistol Primers 1000 Count', 'stock': False, 'maftr': 'Winchester'}, {'price in $': 60.9, 'title': 'Winchester Large Pistol Primers 1000 Count', 'stock': False, 'maftr': 'Winchester'}, {'price in $': 60.9, 'title': 'Winchester Small Rifle Primers 1000 Count', 'stock': False, 'maftr': 'Winchester'}, {'price in $': 64.7, 'title': '#400 Small Rifle Primer (1000 Count)', 'stock': False, 'maftr': 'CCI '}, {'price in $': 60.9, 'title': 'Winchester Large Rifle Primers 1000 Count', 'stock': False, 'maftr': 'Winchester'}, {'price in $': 60.9, 'title': 'Winchester Small Pistol Magnum Primers 1000 Count', 'stock': False, 'maftr': 'Winchester'}, {'price in $': 67.28, 'title': 'Winchester Magnum Large Rifle Primers 1000 Count', 'stock': False, 'maftr': 'Winchester'}, {'price in $': 71.37, 'title': '#450 Magnum Small Rifle Primer (1000 Count)', 'stock': False, 'maftr': 'CCI '}, {'price in $': 71.37, 'title': '#250 Magnum Large Rifle Primer (1000 Count)', 'stock': False, 'maftr': 'CCI '}, {'price in $': 64.7, 'title': '#550 Magnum Small Pistol Primer (1000 Count)', 'stock': False, 'maftr': 'CCI '}, {'price in $': 71.37, 'title': '#350 Magnum Large Pistol Primer (1000 Count)', 'stock': False, 'maftr': 'CCI '}, {'price in $': 76.37, 'title': 'Gold Medal Large Rifle Match Primer #GM210M (1000 Count)', 'stock': False, 'maftr': 'Federal '}, {'price in $': 109.8, 'title': 'BR4 Small Rifle Bench Rest Primer (1000 Count)', 'stock': False, 'maftr': 'CCI '}, {'price in $': 414.29, 'title': '#35 50 Caliber BMG Primer (500 Count)', 'stock': False, 'maftr': 'CCI '}, {'price in $': 59.66, 'title': '1 1/2 Small Pistol Primer (1000 Count)', 'stock': False, 'maftr': 'Remington'}, {'price in $': 59.66, 'title': '2 1/2 Large Pistol Primer (1000 Count)', 'stock': False, 'maftr': 'Remington'}, {'price in $': 59.66, 'title': '6 1/2 Small Rifle Primer (1000 Count)', 'stock': False, 'maftr': 'Remington'}, {'price in $': 59.66, 'title': '9 1/2 Large Rifle Primer (1000 Count)', 'stock': False, 'maftr': 'Remington'}, {'price in $': 65.78, 'title': '9 1/2 Magnum Large Rifle Primer (1000 Count)', 'stock': False, 'maftr': 'Remington'}, {'price in $': 59.66, 'title': '5 1/2 Small Mag Pistol Primer (1000 Count)', 'stock': False, 'maftr': 'Remington'}, {'price in $': 59.66, 'title': '7 1/2 Bench Rest Small Rifle Primer (1000 Count)', 'stock': False, 'maftr': 'Remington'}, {'price in $': 60.19, 'title': '209 Premier STS Shotshell Primer (1000 Count)', 'stock': False, 'maftr': 'Remington'}, {'price in $': 54.96, 'title': 'Winchester Shot Shell Primers 1000 Count', 'stock': False, 'maftr': 'Winchester'}, {'price in $': 66.54, 'title': 'Federal Small Pistol Primer #100 (1000 Count)', 'stock': False, 'maftr': 'Federal '}, {'price in $': 66.54, 'title': 'Large Pistol Primer #150 (1000 Count)', 'stock': False, 'maftr': 'Federal '}, {'price in $': 73.37, 'title': 'Magnum Large Pistol Primer #155 (1000 Count)', 'stock': False, 'maftr': 'Federal '}, {'price in $': 66.54, 'title': 'Magnum Small Pistol Primer #200 (1000 Count)', 'stock': False, 'maftr': 'Federal '}, {'price in $': 66.54, 'title': 'Small Rifle Primer #205 (1000 Count)', 'stock': False, 'maftr': 'Federal '}, {'price in $': 66.54, 'title': 'Large Rifle Primer #210 (1000 Count)', 'stock': False, 'maftr': 'Federal '}, {'price in $': 73.37, 'title': 'Magnum Large Rifle Primer #215 (1000 Count)', 'stock': False, 'maftr': 'Federal '}, {'price in $': 76.37, 'title': 'Gold Medal Small Pistol Match Primer #GM100M (1000 Count)', 'stock': False, 'maftr': 'Federal '}, {'price in $': 76.37, 'title': 'Gold Medal Large Pistol Match Primer #GM150M (1000 Count)', 'stock': False, 'maftr': 'Federal '}, {'price in $': 76.37, 'title': 'Gold Medal Magnum Small Pistol Match Primer #GM200M (1000 Count)', 'stock': False, 'maftr': 'Federal '}, {'price in $': 76.37, 'title': 'Gold Medal Small Rifle Match Primer #GM205M (1000 Count)', 'stock': False, 'maftr': 'Federal '}, {'price in $': 76.37, 'title': 'Gold Medal AR Match Small Rifle Primer #GM205MAR (1000 Count)', 'stock': False, 'maftr': 'Federal '}, {'price in $': 83.55, 'title': 'Gold Medal Magnum Large Rifle Match Primer #GM215M (1000 Count)', 'stock': False, 'maftr': 'Federal '}]\n",
      "Proxy:  50.229.122.130:8080 : FAILED\n",
      "Proxy:  54.93.108.168:9300 : FAILED\n",
      "Proxy:  161.35.159.28:3128 : FAILED\n",
      "Proxy:  138.197.148.215:80 : FAILED\n",
      "Proxy:  140.227.25.56:5678 : FAILED\n",
      "Proxy:  139.99.99.165:3128 : FAILED\n",
      "Proxy:  141.125.105.140:3128 : FAILED\n",
      "Proxy:  64.124.38.138:8080 :  [{'price in $': 70.04, 'title': 'Winchester USA Ready Match Large Pistol Primers 1000 Count', 'stock': False, 'maftr': 'Winchester'}, {'price in $': 70.04, 'title': 'Winchester USA Ready Match Large Rifle Primers 1000 Count', 'stock': False, 'maftr': 'Winchester'}, {'price in $': 70.04, 'title': 'Winchester USA Ready Match Small Pistol Primers 1000 Count', 'stock': False, 'maftr': 'Winchester'}, {'price in $': 70.04, 'title': 'Winchester USA Ready Match Small Rifle Primers 1000 Count', 'stock': False, 'maftr': 'Winchester'}, {'price in $': 60.9, 'title': 'Winchester Small Pistol Primers 1000 Count', 'stock': False, 'maftr': 'Winchester'}, {'price in $': 60.9, 'title': 'Winchester Large Pistol Primers 1000 Count', 'stock': False, 'maftr': 'Winchester'}, {'price in $': 60.9, 'title': 'Winchester Small Rifle Primers 1000 Count', 'stock': False, 'maftr': 'Winchester'}, {'price in $': 64.7, 'title': '#400 Small Rifle Primer (1000 Count)', 'stock': False, 'maftr': 'CCI '}, {'price in $': 60.9, 'title': 'Winchester Large Rifle Primers 1000 Count', 'stock': False, 'maftr': 'Winchester'}, {'price in $': 60.9, 'title': 'Winchester Small Pistol Magnum Primers 1000 Count', 'stock': False, 'maftr': 'Winchester'}, {'price in $': 67.28, 'title': 'Winchester Magnum Large Rifle Primers 1000 Count', 'stock': False, 'maftr': 'Winchester'}, {'price in $': 71.37, 'title': '#450 Magnum Small Rifle Primer (1000 Count)', 'stock': False, 'maftr': 'CCI '}, {'price in $': 71.37, 'title': '#250 Magnum Large Rifle Primer (1000 Count)', 'stock': False, 'maftr': 'CCI '}, {'price in $': 64.7, 'title': '#550 Magnum Small Pistol Primer (1000 Count)', 'stock': False, 'maftr': 'CCI '}, {'price in $': 71.37, 'title': '#350 Magnum Large Pistol Primer (1000 Count)', 'stock': False, 'maftr': 'CCI '}, {'price in $': 76.37, 'title': 'Gold Medal Large Rifle Match Primer #GM210M (1000 Count)', 'stock': False, 'maftr': 'Federal '}, {'price in $': 109.8, 'title': 'BR4 Small Rifle Bench Rest Primer (1000 Count)', 'stock': False, 'maftr': 'CCI '}, {'price in $': 414.29, 'title': '#35 50 Caliber BMG Primer (500 Count)', 'stock': False, 'maftr': 'CCI '}, {'price in $': 59.66, 'title': '1 1/2 Small Pistol Primer (1000 Count)', 'stock': False, 'maftr': 'Remington'}, {'price in $': 59.66, 'title': '2 1/2 Large Pistol Primer (1000 Count)', 'stock': False, 'maftr': 'Remington'}, {'price in $': 59.66, 'title': '6 1/2 Small Rifle Primer (1000 Count)', 'stock': False, 'maftr': 'Remington'}, {'price in $': 59.66, 'title': '9 1/2 Large Rifle Primer (1000 Count)', 'stock': False, 'maftr': 'Remington'}, {'price in $': 65.78, 'title': '9 1/2 Magnum Large Rifle Primer (1000 Count)', 'stock': False, 'maftr': 'Remington'}, {'price in $': 59.66, 'title': '5 1/2 Small Mag Pistol Primer (1000 Count)', 'stock': False, 'maftr': 'Remington'}, {'price in $': 59.66, 'title': '7 1/2 Bench Rest Small Rifle Primer (1000 Count)', 'stock': False, 'maftr': 'Remington'}, {'price in $': 60.19, 'title': '209 Premier STS Shotshell Primer (1000 Count)', 'stock': False, 'maftr': 'Remington'}, {'price in $': 54.96, 'title': 'Winchester Shot Shell Primers 1000 Count', 'stock': False, 'maftr': 'Winchester'}, {'price in $': 66.54, 'title': 'Federal Small Pistol Primer #100 (1000 Count)', 'stock': False, 'maftr': 'Federal '}, {'price in $': 66.54, 'title': 'Large Pistol Primer #150 (1000 Count)', 'stock': False, 'maftr': 'Federal '}, {'price in $': 73.37, 'title': 'Magnum Large Pistol Primer #155 (1000 Count)', 'stock': False, 'maftr': 'Federal '}, {'price in $': 66.54, 'title': 'Magnum Small Pistol Primer #200 (1000 Count)', 'stock': False, 'maftr': 'Federal '}, {'price in $': 66.54, 'title': 'Small Rifle Primer #205 (1000 Count)', 'stock': False, 'maftr': 'Federal '}, {'price in $': 66.54, 'title': 'Large Rifle Primer #210 (1000 Count)', 'stock': False, 'maftr': 'Federal '}, {'price in $': 73.37, 'title': 'Magnum Large Rifle Primer #215 (1000 Count)', 'stock': False, 'maftr': 'Federal '}, {'price in $': 76.37, 'title': 'Gold Medal Small Pistol Match Primer #GM100M (1000 Count)', 'stock': False, 'maftr': 'Federal '}, {'price in $': 76.37, 'title': 'Gold Medal Large Pistol Match Primer #GM150M (1000 Count)', 'stock': False, 'maftr': 'Federal '}, {'price in $': 76.37, 'title': 'Gold Medal Magnum Small Pistol Match Primer #GM200M (1000 Count)', 'stock': False, 'maftr': 'Federal '}, {'price in $': 76.37, 'title': 'Gold Medal Small Rifle Match Primer #GM205M (1000 Count)', 'stock': False, 'maftr': 'Federal '}, {'price in $': 76.37, 'title': 'Gold Medal AR Match Small Rifle Primer #GM205MAR (1000 Count)', 'stock': False, 'maftr': 'Federal '}, {'price in $': 83.55, 'title': 'Gold Medal Magnum Large Rifle Match Primer #GM215M (1000 Count)', 'stock': False, 'maftr': 'Federal '}]\n"
     ]
    },
    {
     "name": "stdout",
     "output_type": "stream",
     "text": [
      "Proxy:  8.210.53.158:3128 : FAILED\n",
      "Proxy:  140.227.69.170:6000 : FAILED\n",
      "Proxy:  4.138.225.120:8888 : FAILED\n",
      "Proxy:  134.122.93.93:8080 : FAILED\n",
      "Proxy:  161.35.159.28:3128 : FAILED\n",
      "Proxy:  140.227.211.47:8080 : FAILED\n"
     ]
    }
   ],
   "source": [
    "from bs4 import BeautifulSoup\n",
    "import requests\n",
    "headers = {'User-Agent':'Chrome'}\n",
    "url = 'https://www.midsouthshooterssupply.com/dept/reloading/primers?itemsperpage=60'\n",
    "for proxy in proxies:\n",
    "    try:\n",
    "        response= requests.get(url, headers=headers, proxies = {\"http\": proxy, \"https\": proxy}, timeout=3)\n",
    "        soup= BeautifulSoup(response.content,'lxml')\n",
    "        results = soup.find(\"div\", {\"class\": \"product-container\"}).find_all(\"div\", {\"class\": \"product\"})\n",
    "        final_product=[]\n",
    "        for item in results:\n",
    "            m=False\n",
    "            if (item.find(\"div\", attrs={\"class\": \"price-rating-container\"}).find(\"span\", attrs={\"class\": \"status out-of-stock\"})):\n",
    "                m=True\n",
    "            product = {\n",
    "                'price in $': float(item.find(\"div\", attrs={\"class\": \"catalog-item-price\"}).find(\"span\", attrs={\"class\": \"price\"}).text[1:]),\n",
    "                'title': item.find(\"a\", attrs={\"class\": \"catalog-item-name\"}).text,\n",
    "                'stock': m,\n",
    "                'maftr': item.find(\"div\", attrs={\"class\": \"catalog-item-brand-item-number\"}).find(\"a\", attrs={\"class\": \"catalog-item-brand\"}).text,\n",
    "            }\n",
    "            final_product.append(product)\n",
    "        #     print(product)\n",
    "        print(\"Proxy: \", proxy, \": \", final_product)\n",
    "    except:\n",
    "        print(\"Proxy: \", proxy, \": FAILED\")"
   ]
  },
  {
   "cell_type": "code",
   "execution_count": null,
   "metadata": {},
   "outputs": [],
   "source": []
  },
  {
   "cell_type": "code",
   "execution_count": null,
   "metadata": {},
   "outputs": [],
   "source": []
  },
  {
   "cell_type": "code",
   "execution_count": null,
   "metadata": {},
   "outputs": [],
   "source": []
  },
  {
   "cell_type": "code",
   "execution_count": null,
   "metadata": {},
   "outputs": [],
   "source": []
  },
  {
   "cell_type": "code",
   "execution_count": null,
   "metadata": {},
   "outputs": [],
   "source": []
  },
  {
   "cell_type": "code",
   "execution_count": null,
   "metadata": {},
   "outputs": [],
   "source": []
  },
  {
   "cell_type": "code",
   "execution_count": null,
   "metadata": {},
   "outputs": [],
   "source": []
  }
 ],
 "metadata": {
  "kernelspec": {
   "display_name": "Python 3",
   "language": "python",
   "name": "python3"
  },
  "language_info": {
   "codemirror_mode": {
    "name": "ipython",
    "version": 3
   },
   "file_extension": ".py",
   "mimetype": "text/x-python",
   "name": "python",
   "nbconvert_exporter": "python",
   "pygments_lexer": "ipython3",
   "version": "3.7.3"
  }
 },
 "nbformat": 4,
 "nbformat_minor": 5
}
